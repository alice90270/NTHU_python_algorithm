{
 "cells": [
  {
   "cell_type": "markdown",
   "metadata": {},
   "source": [
    "1. Bubble Sort \n",
    "Execution Time: Time-Out\n",
    "Since bubble sort has the worst efficiency, the time to run 10M test cases is too large for us to execute. I choose to reduce the numbers of test cases to 100, 1K, 10K. "
   ]
  },
  {
   "cell_type": "code",
   "execution_count": 5,
   "metadata": {
    "collapsed": false,
    "scrolled": true
   },
   "outputs": [
    {
     "name": "stdout",
     "output_type": "stream",
     "text": [
      "bubble sort 100: 0.002005338668823242\n",
      "bubble sort 1K: 0.24996542930603027\n",
      "bubble sort 10K: 15.04542064666748\n",
      "bubble sort sorted 1K: 0.07310128211975098\n",
      "sorted(): 0.0\n",
      ".sort(): 0.0\n"
     ]
    }
   ],
   "source": [
    "### bubble sort ###\n",
    "import time\n",
    "import random\n",
    "import copy\n",
    "#1000 random integer between 0 and 100000\n",
    "list1K= [random.randint(0, 100000) for i in range(100)]\n",
    "list1M= [random.randint(0, 100000) for i in range(1000)]\n",
    "list10M= [random.randint(0, 100000) for i in range(10000)]\n",
    "sorted_list=copy.copy(list1M)\n",
    "sort_list=copy.copy(list1M)\n",
    "\n",
    "def bubble_sort(inList):\n",
    "    length = len(inList)\n",
    "    for top in range(length-1):\n",
    "        bubble = length -1\n",
    "        while bubble > top:\n",
    "            if inList[bubble]<inList[bubble-1]:\n",
    "                inList[bubble], inList[bubble-1]= inList[bubble-1], inList[bubble]\n",
    "            bubble=bubble-1\n",
    "    return inList\n",
    "\n",
    "## 1K ##\n",
    "tStart = time.time()#計時開始\n",
    "bsort1k=bubble_sort(list1K)\n",
    "tEnd = time.time()#計時結束\n",
    "print(\"bubble sort 100: \" +str(tEnd-tStart))\n",
    "## 1M ##\n",
    "tStart = time.time()#計時開始\n",
    "bsort1m=bubble_sort(list1M)\n",
    "tEnd = time.time()#計時結束\n",
    "print(\"bubble sort 1K: \" +str(tEnd-tStart))\n",
    "## 10M ##\n",
    "tStart = time.time()#計時開始\n",
    "bsort10m=bubble_sort(list10M)\n",
    "tEnd = time.time()#計時結束\n",
    "print(\"bubble sort 10K: \" +str(tEnd-tStart))    \n",
    "## sorted 1K ##\n",
    "tStart = time.time()#計時開始\n",
    "bsorted1k=bubble_sort(bsort1m)\n",
    "tEnd = time.time()#計時結束\n",
    "print(\"bubble sort sorted 1K: \" +str(tEnd-tStart))    \n",
    "## sorted() ##\n",
    "tStart = time.time()#計時開始\n",
    "sorted(sorted_list)\n",
    "tEnd = time.time()#計時結束\n",
    "print(\"sorted(): \" +str(tEnd-tStart))    \n",
    "## .sort() ##\n",
    "tStart = time.time()#計時開始\n",
    "sort_list.sort()\n",
    "tEnd = time.time()#計時結束\n",
    "print(\".sort(): \" +str(tEnd-tStart))    \n",
    "\n",
    "#print(bsort_list1K)\n",
    "#print(list1K)\n",
    "#print(bsort_list1M)\n",
    "#print(list1M)\n",
    "#print(bsort_list10M)\n",
    "#print(list10M)\n",
    "#print(bsort1k)\n",
    "#print(bsorted1k)"
   ]
  },
  {
   "cell_type": "code",
   "execution_count": 6,
   "metadata": {
    "collapsed": false
   },
   "outputs": [
    {
     "name": "stdout",
     "output_type": "stream",
     "text": [
      "bubble sorted 1M above: 0.26427578926086426\n"
     ]
    }
   ],
   "source": [
    "## above ##\n",
    "list1M= [random.randint(0, 100000) for i in range(1000)]\n",
    "list1M.sort()\n",
    "re_list1M=list(reversed(list1M))\n",
    "\n",
    "tStart = time.time()#計時開始\n",
    "bsort1m=bubble_sort(re_list1M)\n",
    "tEnd = time.time()#計時結束\n",
    "print(\"bubble sorted 1M above: \" +str(tEnd-tStart))"
   ]
  },
  {
   "cell_type": "code",
   "execution_count": 7,
   "metadata": {
    "collapsed": false
   },
   "outputs": [
    {
     "name": "stdout",
     "output_type": "stream",
     "text": [
      "merge sort 1K: 0.004511117935180664\n",
      "merge sort 1M: 8.692485809326172\n",
      "merge sort 10M: 103.68916630744934\n",
      "merge sorted 1K: 0.004511594772338867\n",
      "sorted(): 0.7329654693603516\n",
      ".sort(): 0.714956521987915\n"
     ]
    }
   ],
   "source": [
    "### merge sort ###\n",
    "import time\n",
    "import random\n",
    "import copy\n",
    "#1000 random integer between 0 and 100000\n",
    "list1K= [random.randint(0, 100000) for i in range(1000)]\n",
    "list1M= [random.randint(0, 100000) for i in range(1000000)]\n",
    "list10M= [random.randint(0, 100000) for i in range(10000000)]\n",
    "sorted_list=copy.copy(list1M)\n",
    "sort_list=copy.copy(list1M)\n",
    "\n",
    "def merge_sort(x):\n",
    "    length = len(x)\n",
    "    if length <= 1:\n",
    "        return x[:]\n",
    "    y1 = merge_sort(x[:length//2])\n",
    "    y2 = merge_sort(x[length//2:])\n",
    "    l1, l2 = len(y1), len(y2)\n",
    "    i1, i2 = 0 , 0\n",
    "    y = []\n",
    "    while i1 < l1 or i2 < l2:\n",
    "        if i1 == l1:\n",
    "            y.extend(y2[i2:])\n",
    "            i2 = l2\n",
    "        elif i2 == l2:\n",
    "            y.extend(y1[i1:])\n",
    "            i1 = l1\n",
    "        else:\n",
    "            if y1[i1] < y2[i2]:\n",
    "                y.append(y1[i1])\n",
    "                i1 += 1\n",
    "            else: \n",
    "                y.append(y2[i2])\n",
    "                i2 += 1\n",
    "    return y\n",
    "\n",
    "## 1K ##\n",
    "tStart = time.time()#計時開始\n",
    "msort1k=merge_sort(list1K)\n",
    "tEnd = time.time()#計時結束\n",
    "print(\"merge sort 1K: \" +str(tEnd-tStart))  \n",
    "## 1M ##\n",
    "tStart = time.time()#計時開始\n",
    "msort1m=merge_sort(list1M)\n",
    "tEnd = time.time()#計時結束\n",
    "print(\"merge sort 1M: \" +str(tEnd-tStart))  \n",
    "## 10M ##\n",
    "tStart = time.time()#計時開始\n",
    "msort10m=merge_sort(list10M)\n",
    "tEnd = time.time()#計時結束\n",
    "print(\"merge sort 10M: \" +str(tEnd-tStart))  \n",
    "## sorted 1K ##\n",
    "tStart = time.time()#計時開始\n",
    "msorted1k=merge_sort(msort1k)\n",
    "tEnd = time.time()#計時結束\n",
    "print(\"merge sorted 1K: \" +str(tEnd-tStart))  \n",
    "\n",
    "## sorted() ##\n",
    "tStart = time.time()#計時開始\n",
    "sorted(sorted_list)\n",
    "tEnd = time.time()#計時結束\n",
    "print(\"sorted(): \" +str(tEnd-tStart))    \n",
    "## .sort() ##\n",
    "tStart = time.time()#計時開始\n",
    "sort_list.sort()\n",
    "tEnd = time.time()#計時結束\n",
    "print(\".sort(): \" +str(tEnd-tStart))    "
   ]
  },
  {
   "cell_type": "code",
   "execution_count": 8,
   "metadata": {
    "collapsed": false
   },
   "outputs": [
    {
     "name": "stdout",
     "output_type": "stream",
     "text": [
      "merge sorted 1M above: 9.091923713684082\n"
     ]
    }
   ],
   "source": [
    "re_list1M=list(reversed(list1M))\n",
    "\n",
    "## above ##\n",
    "tStart = time.time()#計時開始\n",
    "merge_sort(re_list1M)\n",
    "tEnd = time.time()#計時結束\n",
    "print(\"merge sorted 1M above: \" +str(tEnd-tStart))"
   ]
  },
  {
   "cell_type": "code",
   "execution_count": 9,
   "metadata": {
    "collapsed": false
   },
   "outputs": [
    {
     "name": "stdout",
     "output_type": "stream",
     "text": [
      "quick sort 1K: 0.0\n",
      "quick sort 1M: 6.246109247207642\n",
      "quick sort 10M: 122.82082176208496\n",
      "quick sorted 1K: 0.510819673538208\n",
      "sorted(): 0.7270221710205078\n",
      ".sort(): 0.7113256454467773\n"
     ]
    }
   ],
   "source": [
    "### quick sort ###\n",
    "\n",
    "import time\n",
    "import random\n",
    "import copy\n",
    "#1000 random integer between 0 and 100000\n",
    "list1K= [random.randint(0, 100000) for i in range(1000)]\n",
    "list1M= [random.randint(0, 100000) for i in range(1000000)]\n",
    "list10M= [random.randint(0, 100000) for i in range(10000000)]\n",
    "sorted_list=copy.copy(list1M)\n",
    "sort_list=copy.copy(list1M)\n",
    "\n",
    "def quick_sort(myList, first, last):\n",
    "    # print (\"First and Last\", first, last, myList)\n",
    "    if first >= last:\n",
    "        return\n",
    "    pivot = myList[first]\n",
    "    left = first+1\n",
    "    right = last\n",
    "    while left < right:\n",
    "        while left < right and myList[left] < pivot:\n",
    "            left += 1\n",
    "        while right > left and myList[right] >= pivot:\n",
    "            right -= 1\n",
    "        myList[left], myList[right] = myList[right], myList[left]\n",
    "    center = left -1\n",
    "    myList[first], myList[center] = myList[center], myList[first]\n",
    "    quick_sort(myList, first, center -1)\n",
    "    quick_sort(myList, center + 1, last)\n",
    "    return\n",
    "\n",
    "\n",
    "## 1K ##\n",
    "tStart = time.time()#計時開始\n",
    "quick_sort(list1K, 0, len(list1K)-1) \n",
    "tEnd = time.time()#計時結束\n",
    "print(\"quick sort 1K: \" +str(tEnd-tStart))  \n",
    "## 1M ##\n",
    "tStart = time.time()#計時開始\n",
    "quick_sort(list1M, 0, len(list1M)-1) \n",
    "tEnd = time.time()#計時結束\n",
    "print(\"quick sort 1M: \" +str(tEnd-tStart))  \n",
    "## 10M ##\n",
    "tStart = time.time()#計時開始\n",
    "quick_sort(list10M, 0, len(list10M)-1) \n",
    "tEnd = time.time()#計時結束\n",
    "print(\"quick sort 10M: \" +str(tEnd-tStart))  \n",
    "## sorted 1K ##\n",
    "tStart = time.time()#計時開始\n",
    "quick_sort(list1K, 0, len(list1K)-1) \n",
    "tEnd = time.time()#計時結束\n",
    "print(\"quick sorted 1K: \" +str(tEnd-tStart))  \n",
    "\n",
    "## sorted() ##\n",
    "tStart = time.time()#計時開始\n",
    "sorted(sorted_list)\n",
    "tEnd = time.time()#計時結束\n",
    "print(\"sorted(): \" +str(tEnd-tStart))    \n",
    "## .sort() ##\n",
    "tStart = time.time()#計時開始\n",
    "sort_list.sort()\n",
    "tEnd = time.time()#計時結束\n",
    "print(\".sort(): \" +str(tEnd-tStart))    "
   ]
  },
  {
   "cell_type": "code",
   "execution_count": 14,
   "metadata": {
    "collapsed": false
   },
   "outputs": [
    {
     "name": "stdout",
     "output_type": "stream",
     "text": [
      "RecursionError\n"
     ]
    }
   ],
   "source": [
    "re_list1M=list(reversed(list1M))\n",
    "\n",
    "## above ##\n",
    "tStart = time.time()#計時開始\n",
    "quick_sort(re_list1M, 0, len(re_list1M)-1)\n",
    "tEnd = time.time()#計時結束\n",
    "print(\"RecursionError\")"
   ]
  },
  {
   "cell_type": "code",
   "execution_count": 12,
   "metadata": {
    "collapsed": false
   },
   "outputs": [
    {
     "name": "stdout",
     "output_type": "stream",
     "text": [
      "heap sort 1K: 0.0\n",
      "heap sort 1M: 1.068631649017334\n",
      "heap sort 10M: 9.713078737258911\n",
      "heap sorted 1K: 0.0004980564117431641\n",
      "sorted(): 0.7344150543212891\n",
      ".sort(): 0.700392484664917\n"
     ]
    }
   ],
   "source": [
    "### heap sort ###\n",
    "import time\n",
    "import random\n",
    "import copy\n",
    "#1000 random integer between 0 and 100000\n",
    "list1K= [random.randint(0, 100000) for i in range(1000)]\n",
    "list1M= [random.randint(0, 100000) for i in range(1000000)]\n",
    "list10M= [random.randint(0, 100000) for i in range(10000000)]\n",
    "sorted_list=copy.copy(list1M)\n",
    "sort_list=copy.copy(list1M)\n",
    "\n",
    "\n",
    "def heap_sort(myList):\n",
    "    heapify(myList)\n",
    "    listLength = len(myList)\n",
    "    for i in range(listLength-1, 0, -1):\n",
    "        myList[0], myList[i] = myList[i], myList[0]\n",
    "        shift_down(myList, 0, i-1)\n",
    "    return\n",
    "\n",
    "def heapify(myList):\n",
    "    listLength = len(myList)\n",
    "    for i in range(listLength):\n",
    "        shift_up(myList, i)\n",
    "    return\n",
    "\n",
    "def shift_up(myList, i):\n",
    "    if i == 0:\n",
    "        pass\n",
    "    else:\n",
    "        p = (i-1)//2\n",
    "        if myList[i] < myList[p]:\n",
    "            myList[i], myList[p] = myList[p], myList[i]\n",
    "            shift_up(myList, p)\n",
    "    return\n",
    "        \n",
    "def shift_down(myList, first, last):\n",
    "    p = first\n",
    "    lchild = p * 2 + 1\n",
    "    rchild = p * 2 + 2\n",
    "    if last < lchild:\n",
    "        pass\n",
    "    elif lchild <= last < rchild:\n",
    "        if myList[p] > myList[lchild]:\n",
    "            myList[p], myList[lchild] = myList[lchild], myList[p]\n",
    "    else: # last >= rchild\n",
    "        if myList[p] > min(myList[lchild], myList[rchild]):\n",
    "            if myList[lchild] < myList[rchild]:\n",
    "                myList[p], myList[lchild] = myList[lchild], myList[p]\n",
    "                shift_down(myList, lchild, last)\n",
    "            else:\n",
    "                myList[p], myList[rchild] = myList[rchild], myList[p]\n",
    "                shift_down(myList, rchild, last)\n",
    "    return\n",
    "\n",
    "\n",
    "## 1K ##\n",
    "tStart = time.time()#計時開始\n",
    "heapify(list1K)\n",
    "tEnd = time.time()#計時結束\n",
    "print(\"heap sort 1K: \" +str(tEnd-tStart))  \n",
    "## 1M ##\n",
    "tStart = time.time()#計時開始\n",
    "heapify(list1M)\n",
    "tEnd = time.time()#計時結束\n",
    "print(\"heap sort 1M: \" +str(tEnd-tStart))  \n",
    "## 10M ##\n",
    "tStart = time.time()#計時開始\n",
    "heapify(list10M)\n",
    "tEnd = time.time()#計時結束\n",
    "print(\"heap sort 10M: \" +str(tEnd-tStart))  \n",
    "## sorted 1K ##\n",
    "tStart = time.time()#計時開始\n",
    "heapify(list1K)\n",
    "tEnd = time.time()#計時結束\n",
    "print(\"heap sorted 1K: \" +str(tEnd-tStart))  \n",
    "\n",
    "## sorted() ##\n",
    "tStart = time.time()#計時開始\n",
    "sorted(sorted_list)\n",
    "tEnd = time.time()#計時結束\n",
    "print(\"sorted(): \" +str(tEnd-tStart))    \n",
    "## .sort() ##\n",
    "tStart = time.time()#計時開始\n",
    "sort_list.sort()\n",
    "tEnd = time.time()#計時結束\n",
    "print(\".sort(): \" +str(tEnd-tStart))    "
   ]
  },
  {
   "cell_type": "code",
   "execution_count": 13,
   "metadata": {
    "collapsed": false
   },
   "outputs": [
    {
     "name": "stdout",
     "output_type": "stream",
     "text": [
      "heap sorted 1M above: 1.6062440872192383\n"
     ]
    }
   ],
   "source": [
    "re_list1M=list(reversed(list1M))\n",
    "\n",
    "## above ##\n",
    "tStart = time.time()#計時開始\n",
    "heapify(re_list1M)\n",
    "tEnd = time.time()#計時結束\n",
    "print(\"heap sorted 1M above: \" +str(tEnd-tStart))"
   ]
  },
  {
   "cell_type": "markdown",
   "metadata": {
    "collapsed": false
   },
   "source": [
    "Compare your programs with Python built-in function sorted() and list class method .sort()? \n",
    "1. Bubble Sort \n",
    "Both functions are faster than bubble sort. \n",
    "2. Merge Sort, Quick Sort, Heap Sort \n",
    "When the number of test cases more than 1K, both functions are faster than sort algorithm. "
   ]
  },
  {
   "cell_type": "code",
   "execution_count": null,
   "metadata": {
    "collapsed": true
   },
   "outputs": [],
   "source": []
  }
 ],
 "metadata": {
  "kernelspec": {
   "display_name": "Python 3",
   "language": "python",
   "name": "python3"
  },
  "language_info": {
   "codemirror_mode": {
    "name": "ipython",
    "version": 3
   },
   "file_extension": ".py",
   "mimetype": "text/x-python",
   "name": "python",
   "nbconvert_exporter": "python",
   "pygments_lexer": "ipython3",
   "version": "3.6.0"
  }
 },
 "nbformat": 4,
 "nbformat_minor": 1
}
