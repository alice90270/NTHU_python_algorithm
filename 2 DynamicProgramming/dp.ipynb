{
 "cells": [
  {
   "cell_type": "markdown",
   "metadata": {},
   "source": [
    "# Dynamic Programming\n",
    "###  2017/03/09"
   ]
  },
  {
   "cell_type": "code",
   "execution_count": 1,
   "metadata": {
    "collapsed": true
   },
   "outputs": [],
   "source": [
    "# Finding nth Fibanacci Number \n",
    "def fib_bf(n):\n",
    "    '''Brute Force Approach; Exponential time complexity'''\n",
    "    if n == 0 or n == 1:\n",
    "        return n\n",
    "    else:\n",
    "        return fib(n-1) + fib(n-2)\n",
    "    \n",
    "def fib_dict(n, d):\n",
    "    '''Use a dictionary d to memorize found solutions to subproblems'''\n",
    "    if n in d:\n",
    "        return d[n]\n",
    "    else:\n",
    "        sol = fib_dict(n-1, d) + fib_dict(n-2, d)\n",
    "        d[n] = sol\n",
    "        print (\"Insert entry {}:{}\".format(n, sol))\n",
    "        return sol\n",
    "    \n",
    "def fib(n):\n",
    "    '''Use a linear array to store found solutions to subproblems'''\n",
    "    sol = [-1 for i in range(n+1)] # list comprehension\n",
    "    sol[0] = 0\n",
    "    sol[1] = 1\n",
    "    for i in range(2, n+1):\n",
    "        sol[i] = sol[i-1] + sol[i-2]\n",
    "    return sol\n",
    "    "
   ]
  },
  {
   "cell_type": "code",
   "execution_count": 3,
   "metadata": {
    "collapsed": false
   },
   "outputs": [
    {
     "data": {
      "text/plain": [
       "[0, 1, 1, 2, 3, 5, 8, 13, 21, 34, 55]"
      ]
     },
     "execution_count": 3,
     "metadata": {},
     "output_type": "execute_result"
    }
   ],
   "source": [
    "d = {0:0, 1:1}\n",
    "fib(10)"
   ]
  },
  {
   "cell_type": "code",
   "execution_count": 20,
   "metadata": {
    "collapsed": false
   },
   "outputs": [],
   "source": [
    "# Finding a Longest Common Subsequence of two strings\n",
    "def lcs_bf(x, y):\n",
    "    '''Brute Force Approach'''\n",
    "    if len(x) == 0 or len(y) == 0:\n",
    "        return 0\n",
    "    else:\n",
    "        if x[-1] == y[-1]:\n",
    "            return lcs_bf(x[:-1], y[:-1]) + 1\n",
    "        else:\n",
    "            return max(lcs_bf(x[:-1], y[:]), lcs_bf(x[:], y[:-1]))\n",
    "        "
   ]
  },
  {
   "cell_type": "code",
   "execution_count": 4,
   "metadata": {
    "collapsed": false
   },
   "outputs": [],
   "source": [
    "def lcs_dict(x, y, d):\n",
    "    '''Use a dictionary d to store found solutions to subproblems'''\n",
    "    k = str(len(x))+'-'+str(len(y)) # Use lengths of strings as key\n",
    "    if k in d:\n",
    "        return d[k]\n",
    "    else:\n",
    "        if len(x) == 0 or len(y) == 0:\n",
    "            lcs_length = 0\n",
    "        else:\n",
    "            if x[-1] == y[-1]:\n",
    "                lcs_length = lcs_dict(x[:-1], y[:-1], d) + 1\n",
    "            else:\n",
    "                lcs_length = max(lcs_dict(x[:-1], y[:], d), lcs_dict(x[:], y[:-1], d))\n",
    "            d[k] = lcs_length\n",
    "            print (\"Insert {}:{}\".format(k, lcs_length))\n",
    "        return lcs_length\n",
    "        "
   ]
  },
  {
   "cell_type": "code",
   "execution_count": 5,
   "metadata": {
    "collapsed": false
   },
   "outputs": [
    {
     "name": "stdout",
     "output_type": "stream",
     "text": [
      "Insert 1-1:1\n",
      "Insert 1-2:1\n",
      "Insert 1-3:1\n",
      "Insert 1-4:1\n",
      "Insert 1-5:1\n",
      "Insert 1-6:1\n",
      "Insert 1-7:1\n",
      "Insert 1-8:1\n",
      "Insert 2-3:2\n",
      "Insert 2-4:2\n",
      "Insert 2-5:2\n",
      "Insert 2-6:2\n",
      "Insert 2-7:2\n",
      "Insert 2-8:2\n",
      "Insert 2-1:1\n",
      "Insert 2-2:1\n",
      "Insert 3-1:1\n",
      "Insert 3-2:1\n",
      "Insert 3-3:2\n",
      "Insert 3-4:2\n",
      "Insert 3-5:2\n",
      "Insert 3-6:2\n",
      "Insert 3-7:2\n",
      "Insert 3-8:2\n",
      "Insert 4-6:3\n",
      "Insert 4-7:3\n",
      "Insert 4-8:3\n",
      "Insert 4-4:3\n",
      "Insert 5-5:4\n",
      "Insert 5-6:4\n",
      "Insert 5-7:4\n",
      "Insert 5-8:4\n",
      "Insert 6-6:5\n",
      "Insert 6-7:5\n",
      "Insert 6-8:5\n",
      "Insert 7-7:6\n",
      "Insert 7-8:6\n",
      "Insert 4-1:1\n",
      "Insert 4-2:1\n",
      "Insert 4-3:2\n",
      "Insert 5-1:1\n",
      "Insert 5-2:1\n",
      "Insert 5-3:2\n",
      "Insert 6-4:3\n",
      "Insert 6-5:4\n",
      "Insert 6-1:1\n",
      "Insert 6-2:1\n",
      "Insert 6-3:2\n",
      "Insert 7-1:1\n",
      "Insert 7-2:1\n",
      "Insert 7-3:2\n",
      "Insert 7-4:3\n",
      "Insert 7-5:4\n",
      "Insert 7-6:5\n",
      "Insert 8-1:1\n",
      "Insert 8-2:1\n",
      "Insert 8-3:2\n",
      "Insert 8-4:3\n",
      "Insert 8-5:4\n",
      "Insert 8-6:5\n",
      "Insert 8-7:6\n",
      "Insert 8-8:6\n",
      "Insert 9-9:7\n"
     ]
    },
    {
     "data": {
      "text/plain": [
       "7"
      ]
     },
     "execution_count": 5,
     "metadata": {},
     "output_type": "execute_result"
    }
   ],
   "source": [
    "d = dict()\n",
    "lcs_dict(\"NTHU Univ\", \"NCTU Unev\", d)"
   ]
  },
  {
   "cell_type": "code",
   "execution_count": 6,
   "metadata": {
    "collapsed": true
   },
   "outputs": [],
   "source": [
    "import numpy as np\n",
    "\n",
    "def lcs(x, y):\n",
    "    '''Use an array to store found solutions; fill it up from upper left to lower right'''\n",
    "    num_r = len(x)+1\n",
    "    num_c = len(y)+1\n",
    "    a = np.zeros((num_r, num_c), dtype=int)\n",
    "    for r in range(1, num_r):\n",
    "        for c in range(1, num_c):\n",
    "            if x[r-1] == y[c-1]:\n",
    "                a[r, c] = a[r-1, c-1] + 1\n",
    "            else:\n",
    "                a[r, c] = max(a[r-1, c], a[r, c-1])\n",
    "    print (a)\n",
    "    return a[-1, -1]          "
   ]
  },
  {
   "cell_type": "code",
   "execution_count": 7,
   "metadata": {
    "collapsed": false
   },
   "outputs": [
    {
     "name": "stdout",
     "output_type": "stream",
     "text": [
      "[[0 0 0 0 0 0 0 0 0 0]\n",
      " [0 1 1 1 1 1 1 1 1 1]\n",
      " [0 1 1 2 2 2 2 2 2 2]\n",
      " [0 1 1 2 2 2 2 2 2 2]\n",
      " [0 1 1 2 3 3 3 3 3 3]\n",
      " [0 1 1 2 3 4 4 4 4 4]\n",
      " [0 1 1 2 3 4 5 5 5 5]\n",
      " [0 1 1 2 3 4 5 6 6 6]\n",
      " [0 1 1 2 3 4 5 6 6 6]\n",
      " [0 1 1 2 3 4 5 6 6 7]]\n"
     ]
    },
    {
     "data": {
      "text/plain": [
       "7"
      ]
     },
     "execution_count": 7,
     "metadata": {},
     "output_type": "execute_result"
    }
   ],
   "source": [
    "lcs(\"NTHU Univ\", \"NCTU Unev\")"
   ]
  },
  {
   "cell_type": "code",
   "execution_count": 8,
   "metadata": {
    "collapsed": true
   },
   "outputs": [],
   "source": [
    "# Text Justification\n",
    "\n",
    "def tj_greedy(text, width):\n",
    "    '''A greedy approach'''\n",
    "    word_list = text.split()\n",
    "    i = 0\n",
    "    while i < len(word_list):\n",
    "        line = ''\n",
    "        usage = 0\n",
    "        while (i < len(word_list) and\n",
    "               usage < width and \n",
    "               len(word_list[i])+usage < width):\n",
    "            if line != '':\n",
    "                line = line +  \" \" + word_list[i]\n",
    "                usage += len(word_list[i]) + 1\n",
    "            else:\n",
    "                line = word_list[i]\n",
    "                usage += len(word_list[i])\n",
    "            i += 1\n",
    "        print (\"waste=\", width-usage, line)\n",
    "    return"
   ]
  },
  {
   "cell_type": "code",
   "execution_count": 9,
   "metadata": {
    "collapsed": false
   },
   "outputs": [
    {
     "name": "stdout",
     "output_type": "stream",
     "text": [
      "waste= 2 National Tsing Hua\n",
      "waste= 1 University. This is\n",
      "waste= 2 the worst of time.\n",
      "waste= 1 This is the best of\n",
      "waste= 15 time.\n"
     ]
    }
   ],
   "source": [
    "text = \"National Tsing Hua University. This is the worst of time. This is the best of time.\"\n",
    "\n",
    "tj_greedy(text,20)"
   ]
  },
  {
   "cell_type": "code",
   "execution_count": null,
   "metadata": {
    "collapsed": true
   },
   "outputs": [],
   "source": []
  }
 ],
 "metadata": {
  "kernelspec": {
   "display_name": "Python 3",
   "language": "python",
   "name": "python3"
  },
  "language_info": {
   "codemirror_mode": {
    "name": "ipython",
    "version": 3
   },
   "file_extension": ".py",
   "mimetype": "text/x-python",
   "name": "python",
   "nbconvert_exporter": "python",
   "pygments_lexer": "ipython3",
   "version": "3.5.0"
  }
 },
 "nbformat": 4,
 "nbformat_minor": 2
}
