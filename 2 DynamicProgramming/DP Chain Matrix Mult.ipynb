{
 "cells": [
  {
   "cell_type": "markdown",
   "metadata": {},
   "source": [
    "# Dynamic Programming -- Chain Matrix Multiplication\n",
    "### Youn-Long Lin 2017/03/23"
   ]
  },
  {
   "cell_type": "code",
   "execution_count": 1,
   "metadata": {
    "collapsed": false
   },
   "outputs": [
    {
     "name": "stdout",
     "output_type": "stream",
     "text": [
      "start and end 0 3\n",
      "start and end 0 0\n",
      "start and end 1 3\n",
      "start and end 1 1\n",
      "start and end 2 3\n",
      "start and end 2 2\n",
      "start and end 3 3\n",
      "start and end 1 2\n",
      "start and end 1 1\n",
      "start and end 2 2\n",
      "start and end 3 3\n",
      "start and end 0 1\n",
      "start and end 0 0\n",
      "start and end 1 1\n",
      "start and end 2 3\n",
      "start and end 2 2\n",
      "start and end 3 3\n",
      "start and end 0 2\n",
      "start and end 0 0\n",
      "start and end 1 2\n",
      "start and end 1 1\n",
      "start and end 2 2\n",
      "start and end 0 1\n",
      "start and end 0 0\n",
      "start and end 1 1\n",
      "start and end 2 2\n",
      "start and end 3 3\n"
     ]
    },
    {
     "data": {
      "text/plain": [
       "124"
      ]
     },
     "execution_count": 1,
     "metadata": {},
     "output_type": "execute_result"
    }
   ],
   "source": [
    "# Brute Force Method\n",
    "def cm_bf(chain, start, end):\n",
    "    print (\"start and end\", start, end)\n",
    "    if start >= end:\n",
    "        return 0\n",
    "    else:\n",
    "        return min([cm_bf(chain, start, k) +\n",
    "                    cm_bf(chain, k+1, end) +\n",
    "                    chain[start][0] * chain[end][1] * chain[k][1] \n",
    "                    for k in range(start, end)])\n",
    "    \n",
    "    \n",
    "chain = [(3, 5), (5, 4), (4, 2), (2, 9)]\n",
    "cm_bf(chain, 0, len(chain) -1)"
   ]
  },
  {
   "cell_type": "code",
   "execution_count": 4,
   "metadata": {
    "collapsed": false
   },
   "outputs": [
    {
     "name": "stdout",
     "output_type": "stream",
     "text": [
      "Insert Key 2-3 cost 72\n",
      "Insert Key 1-2 cost 40\n",
      "Insert Key 1-3 cost 130\n",
      "Insert Key 0-1 cost 60\n",
      "Insert Key 0-2 cost 70\n",
      "Insert Key 0-3 cost 124\n"
     ]
    },
    {
     "data": {
      "text/plain": [
       "124"
      ]
     },
     "execution_count": 4,
     "metadata": {},
     "output_type": "execute_result"
    }
   ],
   "source": [
    "# Emplying a dictionary to store found solutions to subproblems\n",
    "def cm_dict(chain, start, end, d):\n",
    "    # print (\"start and end\", start, end)\n",
    "    k = str(start)+'-'+str(end)\n",
    "    if k in d:\n",
    "        return d[k]\n",
    "    if start >= end:\n",
    "        return 0\n",
    "    else:\n",
    "        min_cost = min([cm_dict(chain, start, i, d) +\n",
    "                        cm_dict(chain, i+1, end, d) +\n",
    "                        chain[start][0] * chain[end][1] * chain[i][1] \n",
    "                        for i in range(start, end)])\n",
    "        d[k] = min_cost\n",
    "        print (\"Insert Key {} cost {}\".format(k, min_cost))\n",
    "        return min_cost\n",
    "    \n",
    "    \n",
    "chain = [(3, 5), (5, 4), (4, 2), (2, 9)]\n",
    "d = dict()\n",
    "cm_dict(chain, 0, len(chain) -1, d)"
   ]
  },
  {
   "cell_type": "code",
   "execution_count": 6,
   "metadata": {
    "collapsed": false
   },
   "outputs": [
    {
     "data": {
      "text/plain": [
       "array([[  0,  60,  70, 124],\n",
       "       [  0,   0,  40, 130],\n",
       "       [  0,   0,   0,  72],\n",
       "       [  0,   0,   0,   0]])"
      ]
     },
     "execution_count": 6,
     "metadata": {},
     "output_type": "execute_result"
    }
   ],
   "source": [
    "# Fill up the upper triangle of a 2D array following the order discovered by the Dictionary Method\n",
    "\n",
    "import numpy as np\n",
    "\n",
    "def cm_loop(chain):\n",
    "    N = len(chain)\n",
    "    arr = np.zeros((N, N), dtype = int)\n",
    "    if N <= 1:\n",
    "        return 0\n",
    "    else:\n",
    "        for r in range(N-1, -1, -1):\n",
    "            arr[r, r] = 0\n",
    "            for c in range(r+1, N):\n",
    "                arr[r, c] = min([arr[r, i] +\n",
    "                                 arr[i+1, c] +\n",
    "                                 chain[r][0]*chain[i][1]*chain[c][1]\n",
    "                                 for i in range(r, c)]) \n",
    "    return arr\n",
    "        \n",
    "    \n",
    "    \n",
    "chain = [(3, 5), (5, 4), (4, 2), (2, 9)]\n",
    "cm_loop(chain)"
   ]
  }
 ],
 "metadata": {
  "kernelspec": {
   "display_name": "Python 3",
   "language": "python",
   "name": "python3"
  },
  "language_info": {
   "codemirror_mode": {
    "name": "ipython",
    "version": 3
   },
   "file_extension": ".py",
   "mimetype": "text/x-python",
   "name": "python",
   "nbconvert_exporter": "python",
   "pygments_lexer": "ipython3",
   "version": "3.5.0"
  }
 },
 "nbformat": 4,
 "nbformat_minor": 2
}
