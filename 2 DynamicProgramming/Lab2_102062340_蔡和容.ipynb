{
 "cells": [
  {
   "cell_type": "markdown",
   "metadata": {},
   "source": [
    "## Top Ten Important Algorithm Machine Problem 2\n",
    "1.\tFibonacci number generation\n",
    "2.\tLongest Common Subsequence Algorithm\n",
    "3.\tText Justification\n",
    "4.\tMatrix Chain Multiplication\n",
    "5.\tAny Dynamic Programming Algorithm you find important"
   ]
  },
  {
   "cell_type": "markdown",
   "metadata": {
    "collapsed": true
   },
   "source": [
    "# 1. Fibonacci number generation"
   ]
  },
  {
   "cell_type": "code",
   "execution_count": 16,
   "metadata": {
    "collapsed": true
   },
   "outputs": [],
   "source": [
    "'''Fibonacci(n) will print n Fibonacci numbers where n is a non-negative integer '''\n",
    "def Fibonacci(n):\n",
    "    '''Use a linear array to store found solutions to subproblems'''\n",
    "    # create a n-numbers list where all the elements are 0\n",
    "    sol = [0 for i in range(n+1)] # list comprehension\n",
    "    sol[0] = 0 # where n=1\n",
    "    sol[1] = 1 # where n=2\n",
    "    for i in range(2, n+1):\n",
    "        sol[i] = sol[i-1] + sol[i-2]\n",
    "    return sol"
   ]
  },
  {
   "cell_type": "code",
   "execution_count": 17,
   "metadata": {
    "collapsed": false,
    "scrolled": true
   },
   "outputs": [
    {
     "data": {
      "text/plain": [
       "[0, 1, 1, 2, 3, 5, 8, 13, 21, 34, 55]"
      ]
     },
     "execution_count": 17,
     "metadata": {},
     "output_type": "execute_result"
    }
   ],
   "source": [
    "# example\n",
    "Fibonacci(10)"
   ]
  },
  {
   "cell_type": "markdown",
   "metadata": {},
   "source": [
    "# 2. Longest Common Subsequence Algorithm\n",
    "references:http://www.csie.ntnu.edu.tw/~u91029/LongestCommonSubsequence.html"
   ]
  },
  {
   "cell_type": "code",
   "execution_count": 20,
   "metadata": {
    "collapsed": true
   },
   "outputs": [],
   "source": [
    "'''lcs(input1, input2) will print the table of DP and the lcs of input 1 & input 2.'''\n",
    "import numpy as np #array\n",
    "\n",
    "def lcs(input1, input2):\n",
    "    '''Use an table to store found solutions'''\n",
    "    num_row = len(input1)+1\n",
    "    num_col = len(input2)+1\n",
    "    # create a zero-matrix table with given row & colunm \n",
    "    table = np.zeros((num_row, num_col), dtype=int)\n",
    "    \n",
    "    # compute the value from upper left to lower right\n",
    "    for row in range(1, num_row):\n",
    "        for col in range(1, num_col):\n",
    "            # 字相同時: 左上+1\n",
    "            if input1[row-1] == input2[col-1]:\n",
    "                table[row, col] = table[row-1, col-1] + 1\n",
    "            # 字不同時: max(上,左) \n",
    "            else:\n",
    "                table[row, col] = max(table[row-1, col], table[row, col-1])\n",
    "    print (table)\n",
    "    return table[-1, -1]          "
   ]
  },
  {
   "cell_type": "code",
   "execution_count": 21,
   "metadata": {
    "collapsed": false
   },
   "outputs": [
    {
     "name": "stdout",
     "output_type": "stream",
     "text": [
      "[[0 0 0 0 0 0 0 0 0 0]\n",
      " [0 1 1 1 1 1 1 1 1 1]\n",
      " [0 1 1 2 2 2 2 2 2 2]\n",
      " [0 1 1 2 2 2 2 2 2 2]\n",
      " [0 1 1 2 3 3 3 3 3 3]\n",
      " [0 1 1 2 3 4 4 4 4 4]\n",
      " [0 1 1 2 3 4 5 5 5 5]\n",
      " [0 1 1 2 3 4 5 6 6 6]\n",
      " [0 1 1 2 3 4 5 6 6 6]\n",
      " [0 1 1 2 3 4 5 6 6 7]]\n"
     ]
    },
    {
     "data": {
      "text/plain": [
       "7"
      ]
     },
     "execution_count": 21,
     "metadata": {},
     "output_type": "execute_result"
    }
   ],
   "source": [
    "lcs(\"NTHU Univ\", \"NCTU Unev\")"
   ]
  },
  {
   "cell_type": "markdown",
   "metadata": {},
   "source": [
    "# 3. Text Justification"
   ]
  },
  {
   "cell_type": "code",
   "execution_count": 94,
   "metadata": {
    "collapsed": false
   },
   "outputs": [],
   "source": [
    "'''Base on the code mentioned in class, I wrote two new functions. \n",
    "    One is to print out the text; the other is to calculate the cost.'''\n",
    "\n",
    "def tj_dict(text, width):\n",
    "    word_list = text.split()\n",
    "    d = dict()\n",
    "    tj_dict_engine(word_list, width, 0, len(word_list)-1, d)\n",
    "    tj_bt(word_list, width, 0, len(word_list)-1, d)\n",
    "\n",
    "# this fuction will save the costs in a dictionary type and return the minimum\n",
    "def tj_dict_engine(wl, width, start, end, d):\n",
    "    if start > end:\n",
    "        return 0\n",
    "    key = str(start)+'-'+str(end)\n",
    "    if key in d:\n",
    "        return d[key][0]\n",
    "    candidates = []\n",
    "    usage = 0\n",
    "    i = start\n",
    "    while i <= end and usage + len(wl[i]) <= width:\n",
    "        usage += len(wl[i]) + 1\n",
    "        candidates.append((i, (width-(usage-1))**2))\n",
    "        i += 1\n",
    "    min_cost, min_word = min([(t[1] + tj_dict_engine(wl, width, t[0]+1, end, d), t[0])\n",
    "                   for t in candidates])\n",
    "    d[key] = (min_cost, min_word)\n",
    "    return min_cost\n",
    "\n",
    "# calculate the cost\n",
    "def cost(line, width):\n",
    "    return (width - len(line)) ** 2\n",
    "\n",
    "# print out the text\n",
    "def tj_bt(wl, width, start, end, d):\n",
    "    key = str(start)+'-'+str(end)\n",
    "    if start > end:\n",
    "        return\n",
    "    line = ' '.join(wl[start:d[key][1]+1])\n",
    "    print(\"cost=\", cost(line, width)) \n",
    "    print(line)\n",
    "    tj_bt(wl, width, d[key][1]+1, end, d)\n",
    "    return"
   ]
  },
  {
   "cell_type": "code",
   "execution_count": 95,
   "metadata": {
    "collapsed": false
   },
   "outputs": [
    {
     "name": "stdout",
     "output_type": "stream",
     "text": [
      "cost= 1\n",
      "I see Barsad, and Cly, Defarge, The Vengeance [a lieutenant of Madame Defarge],\n",
      "cost= 36\n",
      "the Juryman, the Judge, long ranks of the new oppressors who have risen on\n",
      "cost= 16\n",
      "the destruction of the old, perishing by this retributive instrument, before\n",
      "cost= 9\n",
      "it shall cease out of its present use. I see a beautiful city and a brilliant\n",
      "cost= 25\n",
      "people rising from this abyss, and, in their struggles to be truly free, in\n",
      "cost= 4\n",
      "their triumphs and defeats, through long years to come, I see the evil of this\n",
      "cost= 25\n",
      "time and of the previous time of which this is the natural birth, gradually\n",
      "cost= 16\n",
      "making expiation for itself and wearing out. I see the lives for which I lay\n",
      "cost= 9\n",
      "down my life, peaceful, useful, prosperous and happy, in that England which I\n",
      "cost= 16\n",
      "shall see no more. I see Her with a child upon her bosom, who bears my name.\n",
      "cost= 16\n",
      "I see her father, aged and bent, but otherwise restored, and faithful to all\n",
      "cost= 16\n",
      "men in his healing office, and at peace. I see the good old man [Mr. Lorry],\n",
      "cost= 16\n",
      "so long their friend, in ten years' time enriching them with all he has, and\n",
      "cost= 0\n",
      "passing tranquilly to his reward. I see that I hold a sanctuary in their hearts,\n",
      "cost= 16\n",
      "and in the hearts of their descendants, generations hence. I see her, an old\n",
      "cost= 0\n",
      "woman, weeping for me on the anniversary of this day. I see her and her husband,\n",
      "cost= 25\n",
      "their course done, lying side by side in their last earthly bed, and I know\n",
      "cost= 25\n",
      "that each was not more honoured and held sacred in the other's soul, than I\n",
      "cost= 4\n",
      "was in the souls of both. I see that child who lay upon her bosom and who bore\n",
      "cost= 9\n",
      "my name, a man winning his way up in that path of life which once was mine. I\n",
      "cost= 1\n",
      "see him winning it so well, that my name is made illustrious there by the light\n",
      "cost= 16\n",
      "of his. I see the blots I threw upon it, faded away. I see him, fore-most of\n",
      "cost= 1\n",
      "just judges and honoured men, bringing a boy of my name, with a forehead that I\n",
      "cost= 1\n",
      "know and golden hair, to this place—then fair to look upon, with not a trace of\n",
      "cost= 4\n",
      "this day's disfigurement—and I hear him tell the child my story, with a tender\n",
      "cost= 25\n",
      "and a faltering voice. It is a far, far better thing that I do, than I have\n",
      "cost= 16\n",
      "ever done; it is a far, far better rest that I go to than I have ever known.\n"
     ]
    }
   ],
   "source": [
    "text = \"I see Barsad, and Cly, Defarge, The Vengeance [a lieutenant of Madame Defarge], the Juryman, the Judge, long ranks of the new oppressors who have risen on the destruction of the old, perishing by this retributive instrument, before it shall cease out of its present use. I see a beautiful city and a brilliant people rising from this abyss, and, in their struggles to be truly free, in their triumphs and defeats, through long years to come, I see the evil of this time and of the previous time of which this is the natural birth, gradually making expiation for itself and wearing out. I see the lives for which I lay down my life, peaceful, useful, prosperous and happy, in that England which I shall see no more. I see Her with a child upon her bosom, who bears my name. I see her father, aged and bent, but otherwise restored, and faithful to all men in his healing office, and at peace. I see the good old man [Mr. Lorry], so long their friend, in ten years' time enriching them with all he has, and passing tranquilly to his reward. I see that I hold a sanctuary in their hearts, and in the hearts of their descendants, generations hence. I see her, an old woman, weeping for me on the anniversary of this day. I see her and her husband, their course done, lying side by side in their last earthly bed, and I know that each was not more honoured and held sacred in the other's soul, than I was in the souls of both. I see that child who lay upon her bosom and who bore my name, a man winning his way up in that path of life which once was mine. I see him winning it so well, that my name is made illustrious there by the light of his. I see the blots I threw upon it, faded away. I see him, fore-most of just judges and honoured men, bringing a boy of my name, with a forehead that I know and golden hair, to this place—then fair to look upon, with not a trace of this day's disfigurement—and I hear him tell the child my story, with a tender and a faltering voice. It is a far, far better thing that I do, than I have ever done; it is a far, far better rest that I go to than I have ever known.\"\n",
    "tj_dict(text, 80)"
   ]
  },
  {
   "cell_type": "markdown",
   "metadata": {},
   "source": [
    "# 4.\tMatrix Chain Multiplication"
   ]
  },
  {
   "cell_type": "code",
   "execution_count": 31,
   "metadata": {
    "collapsed": false
   },
   "outputs": [],
   "source": [
    "\"\"\"Fill up the upper triangle of a table following the order discovered by the Dictionary Method\"\"\"\n",
    "import numpy as np\n",
    "\n",
    "def cm_loop(chain):\n",
    "    N = len(chain)\n",
    "    # create a N*N zero-matrix \n",
    "    table = np.zeros((N, N), dtype = int)\n",
    "    if N <= 1: # 0*0 matrix\n",
    "        return 0\n",
    "    else:\n",
    "        for row in range(N-1, -1, -1):\n",
    "            # 斜對角\n",
    "            table[row, row] = 0\n",
    "            for col in range(row+1, N):\n",
    "                table[row, col] = min([table[row, i] +\n",
    "                                 table[i+1, col] +\n",
    "                                 chain[row][0]*chain[i][1]*chain[col][1]\n",
    "                                 for i in range(row, col)]) \n",
    "    return table"
   ]
  },
  {
   "cell_type": "code",
   "execution_count": 32,
   "metadata": {
    "collapsed": false
   },
   "outputs": [
    {
     "data": {
      "text/plain": [
       "array([[  0,  60,  70, 124],\n",
       "       [  0,   0,  40, 130],\n",
       "       [  0,   0,   0,  72],\n",
       "       [  0,   0,   0,   0]])"
      ]
     },
     "execution_count": 32,
     "metadata": {},
     "output_type": "execute_result"
    }
   ],
   "source": [
    "chain = [(3, 5), (5, 4), (4, 2), (2, 9)]\n",
    "cm_loop(chain)"
   ]
  },
  {
   "cell_type": "markdown",
   "metadata": {},
   "source": [
    "# 5.\t0-1 Knapsack Problem\n",
    "I learned this DP solution form the course introduction to algorithm"
   ]
  },
  {
   "cell_type": "code",
   "execution_count": 54,
   "metadata": {
    "collapsed": false
   },
   "outputs": [],
   "source": [
    "'''knapsack(\"weight-value\", maximum weight of bag)'''\n",
    "\n",
    "# v = list of item values or profit\n",
    "# w = list of item weight or cost\n",
    "# W = max weight or max cost for the knapsack\n",
    "def zeroOneKnapsack(v, w, W):\n",
    "    # c is the cost matrix\n",
    "    c = []\n",
    "    n = len(v)\n",
    "    c = zeros(n,W+1)\n",
    "    for i in range(0,n):\n",
    "        #for ever possible weight\n",
    "        for j in range(0,W+1):\n",
    "            #can we add this item to this?\n",
    "            if (w[i] > j):\n",
    "                c[i][j] = c[i-1][j]\n",
    "            else:\n",
    "                c[i][j] = max(c[i-1][j],v[i] +c[i-1][j-w[i]])\n",
    "    return [c[n-1][W], getUsedItems(w,c)]\n",
    "\n",
    "# w = list of item weight or cost\n",
    "# c = the cost matrix created by DP\n",
    "def getUsedItems(w,c):\n",
    "    # item count\n",
    "    i = len(c)-1\n",
    "    currentW =  len(c[0])-1\n",
    "    # set everything not taged\n",
    "    taged = []\n",
    "    for i in range(i+1):\n",
    "        taged.append(0)\n",
    "    while (i >= 0 and currentW >=0):\n",
    "        if (i==0 and c[i][currentW] >0 )or c[i][currentW] != c[i-1][currentW]:\n",
    "            taged[i] =1\n",
    "            currentW = currentW-w[i]\n",
    "        i = i-1\n",
    "    return taged\n",
    "\n",
    "# create a rows*cols zero-element table\n",
    "def zeros(rows,cols):\n",
    "    row = []\n",
    "    data = []\n",
    "    for i in range(cols):\n",
    "        row.append(0)\n",
    "    for i in range(rows):\n",
    "        data.append(row[:])\n",
    "    return data\n",
    "\n",
    "def knapsack(input_items, maxCost):\n",
    "    items = input_items.split(',')\n",
    "    w = []\n",
    "    v = []\n",
    "    total =0\n",
    "    for item in items:\n",
    "        nums = item.split('-')\n",
    "        w.append(int(nums[0]))\n",
    "        v.append(int(nums[1]))\n",
    "\n",
    "    answer = zeroOneKnapsack(v,w,maxCost)\n",
    "    print (\"my bag can hold %d kgs, with profit: $%d.\" % (maxCost,answer[0]))\n",
    "    print (\"by taking item(s): \"),\n",
    "    for i in range(len(answer[1])):\n",
    "        if (answer[1][i] != 0):\n",
    "            print( i+1)"
   ]
  },
  {
   "cell_type": "code",
   "execution_count": 55,
   "metadata": {
    "collapsed": false
   },
   "outputs": [
    {
     "name": "stdout",
     "output_type": "stream",
     "text": [
      "my bag can hold 10 kgs, with profit: $25.\n",
      "by taking item(s): \n",
      "1\n",
      "3\n",
      "6\n"
     ]
    }
   ],
   "source": [
    "knapsack(\"1-2,2-5,3-10,4-4,5-9,6-13\",10)"
   ]
  },
  {
   "cell_type": "code",
   "execution_count": null,
   "metadata": {
    "collapsed": true
   },
   "outputs": [],
   "source": []
  }
 ],
 "metadata": {
  "celltoolbar": "Raw Cell Format",
  "kernelspec": {
   "display_name": "Python 3",
   "language": "python",
   "name": "python3"
  },
  "language_info": {
   "codemirror_mode": {
    "name": "ipython",
    "version": 3
   },
   "file_extension": ".py",
   "mimetype": "text/x-python",
   "name": "python",
   "nbconvert_exporter": "python",
   "pygments_lexer": "ipython3",
   "version": "3.6.0"
  }
 },
 "nbformat": 4,
 "nbformat_minor": 2
}
